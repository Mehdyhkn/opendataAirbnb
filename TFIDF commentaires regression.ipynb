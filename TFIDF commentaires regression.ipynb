{
 "cells": [
  {
   "cell_type": "code",
   "execution_count": null,
   "metadata": {},
   "outputs": [],
   "source": []
  },
  {
   "cell_type": "code",
   "execution_count": 48,
   "metadata": {},
   "outputs": [
    {
     "name": "stderr",
     "output_type": "stream",
     "text": [
      "[nltk_data] Downloading package averaged_perceptron_tagger to\n",
      "[nltk_data]     /Users/mehdyhkn/nltk_data...\n",
      "[nltk_data]   Package averaged_perceptron_tagger is already up-to-\n",
      "[nltk_data]       date!\n"
     ]
    },
    {
     "data": {
      "text/plain": [
       "True"
      ]
     },
     "execution_count": 48,
     "metadata": {},
     "output_type": "execute_result"
    }
   ],
   "source": [
    "# Librairies de base\n",
    "import pandas as pd\n",
    "import pickle\n",
    "import numpy as np\n",
    "import matplotlib.pyplot as plt\n",
    "import seaborn as sns\n",
    "import collections\n",
    "sns.set_style(\"darkgrid\")\n",
    "\n",
    "# Fonctions de la librairie sklearn pour l'apprentissage statistiques (Machine Learning)\n",
    "from sklearn.model_selection import train_test_split\n",
    "from sklearn.linear_model import LogisticRegression\n",
    "from sklearn.feature_extraction.text import TfidfVectorizer\n",
    "from sklearn.metrics import classification_report, confusion_matrix, roc_curve\n",
    "from sklearn.svm import LinearSVC\n",
    "from sklearn.ensemble import BaggingClassifier\n",
    "from sklearn.model_selection import GridSearchCV\n",
    "from sklearn.feature_selection import SelectKBest, chi2\n",
    "from sklearn.pipeline import Pipeline\n",
    "from sklearn.pipeline import make_pipeline\n",
    "\n",
    "# Librairies pour le traitement du langage\n",
    "\n",
    "import nltk\n",
    "from nltk.stem import WordNetLemmatizer\n",
    "from langdetect import detect\n",
    " \n",
    "import re\n",
    "import string\n",
    "from nltk.corpus import words\n",
    "\n",
    "# Librairies d'apprentissage profond\n",
    "from gensim.test.utils import datapath\n",
    "from gensim import utils\n",
    "import gensim\n",
    "import gensim.downloader as api\n",
    "import tensorflow as tf\n",
    "import nltk\n",
    "nltk.download('averaged_perceptron_tagger')"
   ]
  },
  {
   "cell_type": "code",
   "execution_count": 23,
   "metadata": {},
   "outputs": [],
   "source": [
    "import tqdm\n",
    "from nlp_utils import *"
   ]
  },
  {
   "cell_type": "code",
   "execution_count": 6,
   "metadata": {},
   "outputs": [],
   "source": [
    "total = pd.read_csv(\"Table_sent1.csv\")\n"
   ]
  },
  {
   "cell_type": "code",
   "execution_count": 7,
   "metadata": {},
   "outputs": [
    {
     "data": {
      "text/html": [
       "<div>\n",
       "<style scoped>\n",
       "    .dataframe tbody tr th:only-of-type {\n",
       "        vertical-align: middle;\n",
       "    }\n",
       "\n",
       "    .dataframe tbody tr th {\n",
       "        vertical-align: top;\n",
       "    }\n",
       "\n",
       "    .dataframe thead th {\n",
       "        text-align: right;\n",
       "    }\n",
       "</style>\n",
       "<table border=\"1\" class=\"dataframe\">\n",
       "  <thead>\n",
       "    <tr style=\"text-align: right;\">\n",
       "      <th></th>\n",
       "      <th>Unnamed: 0</th>\n",
       "      <th>User</th>\n",
       "      <th>Id_listing</th>\n",
       "      <th>comments</th>\n",
       "      <th>sentiment</th>\n",
       "      <th>room_type</th>\n",
       "      <th>price</th>\n",
       "      <th>number_of_reviews</th>\n",
       "      <th>calculated_host_listings_count</th>\n",
       "      <th>price_group</th>\n",
       "      <th>review_scores_rating</th>\n",
       "      <th>categorie_score</th>\n",
       "    </tr>\n",
       "  </thead>\n",
       "  <tbody>\n",
       "    <tr>\n",
       "      <th>0</th>\n",
       "      <td>1</td>\n",
       "      <td>Dallas</td>\n",
       "      <td>218103</td>\n",
       "      <td>Luis' bed and breakfast is just fantastic.  Hi...</td>\n",
       "      <td>9</td>\n",
       "      <td>Entire home/apt</td>\n",
       "      <td>110</td>\n",
       "      <td>39</td>\n",
       "      <td>4</td>\n",
       "      <td>Luxe</td>\n",
       "      <td>94</td>\n",
       "      <td>Moyen</td>\n",
       "    </tr>\n",
       "    <tr>\n",
       "      <th>1</th>\n",
       "      <td>2</td>\n",
       "      <td>Dallas</td>\n",
       "      <td>218103</td>\n",
       "      <td>Four of us had the pleasure of staying in two ...</td>\n",
       "      <td>9</td>\n",
       "      <td>Entire home/apt</td>\n",
       "      <td>110</td>\n",
       "      <td>39</td>\n",
       "      <td>4</td>\n",
       "      <td>Luxe</td>\n",
       "      <td>94</td>\n",
       "      <td>Moyen</td>\n",
       "    </tr>\n",
       "    <tr>\n",
       "      <th>2</th>\n",
       "      <td>3</td>\n",
       "      <td>Dallas</td>\n",
       "      <td>218103</td>\n",
       "      <td>What a fantastic host and a brilliant place!!!...</td>\n",
       "      <td>9</td>\n",
       "      <td>Entire home/apt</td>\n",
       "      <td>110</td>\n",
       "      <td>39</td>\n",
       "      <td>4</td>\n",
       "      <td>Luxe</td>\n",
       "      <td>94</td>\n",
       "      <td>Moyen</td>\n",
       "    </tr>\n",
       "    <tr>\n",
       "      <th>3</th>\n",
       "      <td>4</td>\n",
       "      <td>Dallas</td>\n",
       "      <td>218103</td>\n",
       "      <td>my friends and i ( 5ppl in total) had pleasant...</td>\n",
       "      <td>9</td>\n",
       "      <td>Entire home/apt</td>\n",
       "      <td>110</td>\n",
       "      <td>39</td>\n",
       "      <td>4</td>\n",
       "      <td>Luxe</td>\n",
       "      <td>94</td>\n",
       "      <td>Moyen</td>\n",
       "    </tr>\n",
       "    <tr>\n",
       "      <th>4</th>\n",
       "      <td>5</td>\n",
       "      <td>Dallas</td>\n",
       "      <td>218103</td>\n",
       "      <td>Luis was super great! Fantastic host who was h...</td>\n",
       "      <td>9</td>\n",
       "      <td>Entire home/apt</td>\n",
       "      <td>110</td>\n",
       "      <td>39</td>\n",
       "      <td>4</td>\n",
       "      <td>Luxe</td>\n",
       "      <td>94</td>\n",
       "      <td>Moyen</td>\n",
       "    </tr>\n",
       "  </tbody>\n",
       "</table>\n",
       "</div>"
      ],
      "text/plain": [
       "   Unnamed: 0    User  Id_listing  \\\n",
       "0           1  Dallas      218103   \n",
       "1           2  Dallas      218103   \n",
       "2           3  Dallas      218103   \n",
       "3           4  Dallas      218103   \n",
       "4           5  Dallas      218103   \n",
       "\n",
       "                                            comments  sentiment  \\\n",
       "0  Luis' bed and breakfast is just fantastic.  Hi...          9   \n",
       "1  Four of us had the pleasure of staying in two ...          9   \n",
       "2  What a fantastic host and a brilliant place!!!...          9   \n",
       "3  my friends and i ( 5ppl in total) had pleasant...          9   \n",
       "4  Luis was super great! Fantastic host who was h...          9   \n",
       "\n",
       "         room_type  price  number_of_reviews  calculated_host_listings_count  \\\n",
       "0  Entire home/apt    110                 39                               4   \n",
       "1  Entire home/apt    110                 39                               4   \n",
       "2  Entire home/apt    110                 39                               4   \n",
       "3  Entire home/apt    110                 39                               4   \n",
       "4  Entire home/apt    110                 39                               4   \n",
       "\n",
       "  price_group  review_scores_rating categorie_score  \n",
       "0        Luxe                    94           Moyen  \n",
       "1        Luxe                    94           Moyen  \n",
       "2        Luxe                    94           Moyen  \n",
       "3        Luxe                    94           Moyen  \n",
       "4        Luxe                    94           Moyen  "
      ]
     },
     "execution_count": 7,
     "metadata": {},
     "output_type": "execute_result"
    }
   ],
   "source": [
    "\n",
    "total.head()"
   ]
  },
  {
   "cell_type": "code",
   "execution_count": 8,
   "metadata": {},
   "outputs": [
    {
     "data": {
      "text/plain": [
       "(992788, 12)"
      ]
     },
     "execution_count": 8,
     "metadata": {},
     "output_type": "execute_result"
    }
   ],
   "source": [
    "total.shape"
   ]
  },
  {
   "cell_type": "code",
   "execution_count": 9,
   "metadata": {},
   "outputs": [],
   "source": [
    "total[\"commentaires\"] = [str(x) for x in total.comments]"
   ]
  },
  {
   "cell_type": "code",
   "execution_count": 10,
   "metadata": {
    "scrolled": true
   },
   "outputs": [
    {
     "data": {
      "text/html": [
       "<div>\n",
       "<style scoped>\n",
       "    .dataframe tbody tr th:only-of-type {\n",
       "        vertical-align: middle;\n",
       "    }\n",
       "\n",
       "    .dataframe tbody tr th {\n",
       "        vertical-align: top;\n",
       "    }\n",
       "\n",
       "    .dataframe thead th {\n",
       "        text-align: right;\n",
       "    }\n",
       "</style>\n",
       "<table border=\"1\" class=\"dataframe\">\n",
       "  <thead>\n",
       "    <tr style=\"text-align: right;\">\n",
       "      <th></th>\n",
       "      <th>Unnamed: 0</th>\n",
       "      <th>User</th>\n",
       "      <th>Id_listing</th>\n",
       "      <th>comments</th>\n",
       "      <th>sentiment</th>\n",
       "      <th>room_type</th>\n",
       "      <th>price</th>\n",
       "      <th>number_of_reviews</th>\n",
       "      <th>calculated_host_listings_count</th>\n",
       "      <th>price_group</th>\n",
       "      <th>review_scores_rating</th>\n",
       "      <th>categorie_score</th>\n",
       "      <th>commentaires</th>\n",
       "    </tr>\n",
       "  </thead>\n",
       "  <tbody>\n",
       "    <tr>\n",
       "      <th>0</th>\n",
       "      <td>1</td>\n",
       "      <td>Dallas</td>\n",
       "      <td>218103</td>\n",
       "      <td>Luis' bed and breakfast is just fantastic.  Hi...</td>\n",
       "      <td>9</td>\n",
       "      <td>Entire home/apt</td>\n",
       "      <td>110</td>\n",
       "      <td>39</td>\n",
       "      <td>4</td>\n",
       "      <td>Luxe</td>\n",
       "      <td>94</td>\n",
       "      <td>Moyen</td>\n",
       "      <td>Luis' bed and breakfast is just fantastic.  Hi...</td>\n",
       "    </tr>\n",
       "    <tr>\n",
       "      <th>1</th>\n",
       "      <td>2</td>\n",
       "      <td>Dallas</td>\n",
       "      <td>218103</td>\n",
       "      <td>Four of us had the pleasure of staying in two ...</td>\n",
       "      <td>9</td>\n",
       "      <td>Entire home/apt</td>\n",
       "      <td>110</td>\n",
       "      <td>39</td>\n",
       "      <td>4</td>\n",
       "      <td>Luxe</td>\n",
       "      <td>94</td>\n",
       "      <td>Moyen</td>\n",
       "      <td>Four of us had the pleasure of staying in two ...</td>\n",
       "    </tr>\n",
       "    <tr>\n",
       "      <th>2</th>\n",
       "      <td>3</td>\n",
       "      <td>Dallas</td>\n",
       "      <td>218103</td>\n",
       "      <td>What a fantastic host and a brilliant place!!!...</td>\n",
       "      <td>9</td>\n",
       "      <td>Entire home/apt</td>\n",
       "      <td>110</td>\n",
       "      <td>39</td>\n",
       "      <td>4</td>\n",
       "      <td>Luxe</td>\n",
       "      <td>94</td>\n",
       "      <td>Moyen</td>\n",
       "      <td>What a fantastic host and a brilliant place!!!...</td>\n",
       "    </tr>\n",
       "    <tr>\n",
       "      <th>3</th>\n",
       "      <td>4</td>\n",
       "      <td>Dallas</td>\n",
       "      <td>218103</td>\n",
       "      <td>my friends and i ( 5ppl in total) had pleasant...</td>\n",
       "      <td>9</td>\n",
       "      <td>Entire home/apt</td>\n",
       "      <td>110</td>\n",
       "      <td>39</td>\n",
       "      <td>4</td>\n",
       "      <td>Luxe</td>\n",
       "      <td>94</td>\n",
       "      <td>Moyen</td>\n",
       "      <td>my friends and i ( 5ppl in total) had pleasant...</td>\n",
       "    </tr>\n",
       "    <tr>\n",
       "      <th>4</th>\n",
       "      <td>5</td>\n",
       "      <td>Dallas</td>\n",
       "      <td>218103</td>\n",
       "      <td>Luis was super great! Fantastic host who was h...</td>\n",
       "      <td>9</td>\n",
       "      <td>Entire home/apt</td>\n",
       "      <td>110</td>\n",
       "      <td>39</td>\n",
       "      <td>4</td>\n",
       "      <td>Luxe</td>\n",
       "      <td>94</td>\n",
       "      <td>Moyen</td>\n",
       "      <td>Luis was super great! Fantastic host who was h...</td>\n",
       "    </tr>\n",
       "  </tbody>\n",
       "</table>\n",
       "</div>"
      ],
      "text/plain": [
       "   Unnamed: 0    User  Id_listing  \\\n",
       "0           1  Dallas      218103   \n",
       "1           2  Dallas      218103   \n",
       "2           3  Dallas      218103   \n",
       "3           4  Dallas      218103   \n",
       "4           5  Dallas      218103   \n",
       "\n",
       "                                            comments  sentiment  \\\n",
       "0  Luis' bed and breakfast is just fantastic.  Hi...          9   \n",
       "1  Four of us had the pleasure of staying in two ...          9   \n",
       "2  What a fantastic host and a brilliant place!!!...          9   \n",
       "3  my friends and i ( 5ppl in total) had pleasant...          9   \n",
       "4  Luis was super great! Fantastic host who was h...          9   \n",
       "\n",
       "         room_type  price  number_of_reviews  calculated_host_listings_count  \\\n",
       "0  Entire home/apt    110                 39                               4   \n",
       "1  Entire home/apt    110                 39                               4   \n",
       "2  Entire home/apt    110                 39                               4   \n",
       "3  Entire home/apt    110                 39                               4   \n",
       "4  Entire home/apt    110                 39                               4   \n",
       "\n",
       "  price_group  review_scores_rating categorie_score  \\\n",
       "0        Luxe                    94           Moyen   \n",
       "1        Luxe                    94           Moyen   \n",
       "2        Luxe                    94           Moyen   \n",
       "3        Luxe                    94           Moyen   \n",
       "4        Luxe                    94           Moyen   \n",
       "\n",
       "                                        commentaires  \n",
       "0  Luis' bed and breakfast is just fantastic.  Hi...  \n",
       "1  Four of us had the pleasure of staying in two ...  \n",
       "2  What a fantastic host and a brilliant place!!!...  \n",
       "3  my friends and i ( 5ppl in total) had pleasant...  \n",
       "4  Luis was super great! Fantastic host who was h...  "
      ]
     },
     "execution_count": 10,
     "metadata": {},
     "output_type": "execute_result"
    }
   ],
   "source": [
    "total.head()"
   ]
  },
  {
   "cell_type": "code",
   "execution_count": 11,
   "metadata": {},
   "outputs": [
    {
     "data": {
      "text/plain": [
       "(992788, 13)"
      ]
     },
     "execution_count": 11,
     "metadata": {},
     "output_type": "execute_result"
    }
   ],
   "source": [
    "total.shape"
   ]
  },
  {
   "cell_type": "code",
   "execution_count": 12,
   "metadata": {},
   "outputs": [],
   "source": [
    "total[\"description_lower\"] = [x.lower() for x in total.commentaires] #lower \n",
    "total[\"description_lower\"] = [''.join([i for i in s if not i.isdigit()]) for s in total[\"description_lower\"]] #enlevage des chiffres"
   ]
  },
  {
   "cell_type": "code",
   "execution_count": 13,
   "metadata": {},
   "outputs": [],
   "source": [
    "re_tok = re.compile(f'([{string.punctuation}“”¨«»®´·º½¾¿¡§£₤‘’])')\n",
    "def tokenize(s): return re_tok.sub('', s).split()"
   ]
  },
  {
   "cell_type": "code",
   "execution_count": 14,
   "metadata": {},
   "outputs": [],
   "source": [
    "train = [tokenize(i) for i in total.description_lower]"
   ]
  },
  {
   "cell_type": "code",
   "execution_count": 15,
   "metadata": {},
   "outputs": [
    {
     "data": {
      "text/html": [
       "<div>\n",
       "<style scoped>\n",
       "    .dataframe tbody tr th:only-of-type {\n",
       "        vertical-align: middle;\n",
       "    }\n",
       "\n",
       "    .dataframe tbody tr th {\n",
       "        vertical-align: top;\n",
       "    }\n",
       "\n",
       "    .dataframe thead th {\n",
       "        text-align: right;\n",
       "    }\n",
       "</style>\n",
       "<table border=\"1\" class=\"dataframe\">\n",
       "  <thead>\n",
       "    <tr style=\"text-align: right;\">\n",
       "      <th></th>\n",
       "      <th>Unnamed: 0</th>\n",
       "      <th>User</th>\n",
       "      <th>Id_listing</th>\n",
       "      <th>comments</th>\n",
       "      <th>sentiment</th>\n",
       "      <th>room_type</th>\n",
       "      <th>price</th>\n",
       "      <th>number_of_reviews</th>\n",
       "      <th>calculated_host_listings_count</th>\n",
       "      <th>price_group</th>\n",
       "      <th>review_scores_rating</th>\n",
       "      <th>categorie_score</th>\n",
       "      <th>commentaires</th>\n",
       "      <th>description_lower</th>\n",
       "      <th>description_lemmatized</th>\n",
       "    </tr>\n",
       "  </thead>\n",
       "  <tbody>\n",
       "    <tr>\n",
       "      <th>0</th>\n",
       "      <td>1</td>\n",
       "      <td>Dallas</td>\n",
       "      <td>218103</td>\n",
       "      <td>Luis' bed and breakfast is just fantastic.  Hi...</td>\n",
       "      <td>9</td>\n",
       "      <td>Entire home/apt</td>\n",
       "      <td>110</td>\n",
       "      <td>39</td>\n",
       "      <td>4</td>\n",
       "      <td>Luxe</td>\n",
       "      <td>94</td>\n",
       "      <td>Moyen</td>\n",
       "      <td>Luis' bed and breakfast is just fantastic.  Hi...</td>\n",
       "      <td>luis' bed and breakfast is just fantastic.  hi...</td>\n",
       "      <td>luis bed and breakfast be just fantastic his c...</td>\n",
       "    </tr>\n",
       "    <tr>\n",
       "      <th>1</th>\n",
       "      <td>2</td>\n",
       "      <td>Dallas</td>\n",
       "      <td>218103</td>\n",
       "      <td>Four of us had the pleasure of staying in two ...</td>\n",
       "      <td>9</td>\n",
       "      <td>Entire home/apt</td>\n",
       "      <td>110</td>\n",
       "      <td>39</td>\n",
       "      <td>4</td>\n",
       "      <td>Luxe</td>\n",
       "      <td>94</td>\n",
       "      <td>Moyen</td>\n",
       "      <td>Four of us had the pleasure of staying in two ...</td>\n",
       "      <td>four of us had the pleasure of staying in two ...</td>\n",
       "      <td>four of us have the pleasure of stay in two ro...</td>\n",
       "    </tr>\n",
       "    <tr>\n",
       "      <th>2</th>\n",
       "      <td>3</td>\n",
       "      <td>Dallas</td>\n",
       "      <td>218103</td>\n",
       "      <td>What a fantastic host and a brilliant place!!!...</td>\n",
       "      <td>9</td>\n",
       "      <td>Entire home/apt</td>\n",
       "      <td>110</td>\n",
       "      <td>39</td>\n",
       "      <td>4</td>\n",
       "      <td>Luxe</td>\n",
       "      <td>94</td>\n",
       "      <td>Moyen</td>\n",
       "      <td>What a fantastic host and a brilliant place!!!...</td>\n",
       "      <td>what a fantastic host and a brilliant place!!!...</td>\n",
       "      <td>what a fantastic host and a brilliant place we...</td>\n",
       "    </tr>\n",
       "    <tr>\n",
       "      <th>3</th>\n",
       "      <td>4</td>\n",
       "      <td>Dallas</td>\n",
       "      <td>218103</td>\n",
       "      <td>my friends and i ( 5ppl in total) had pleasant...</td>\n",
       "      <td>9</td>\n",
       "      <td>Entire home/apt</td>\n",
       "      <td>110</td>\n",
       "      <td>39</td>\n",
       "      <td>4</td>\n",
       "      <td>Luxe</td>\n",
       "      <td>94</td>\n",
       "      <td>Moyen</td>\n",
       "      <td>my friends and i ( 5ppl in total) had pleasant...</td>\n",
       "      <td>my friends and i ( ppl in total) had pleasant ...</td>\n",
       "      <td>my friend and i ppl in total have pleasant sta...</td>\n",
       "    </tr>\n",
       "    <tr>\n",
       "      <th>4</th>\n",
       "      <td>5</td>\n",
       "      <td>Dallas</td>\n",
       "      <td>218103</td>\n",
       "      <td>Luis was super great! Fantastic host who was h...</td>\n",
       "      <td>9</td>\n",
       "      <td>Entire home/apt</td>\n",
       "      <td>110</td>\n",
       "      <td>39</td>\n",
       "      <td>4</td>\n",
       "      <td>Luxe</td>\n",
       "      <td>94</td>\n",
       "      <td>Moyen</td>\n",
       "      <td>Luis was super great! Fantastic host who was h...</td>\n",
       "      <td>luis was super great! fantastic host who was h...</td>\n",
       "      <td>luis be super great fantastic host who be help...</td>\n",
       "    </tr>\n",
       "  </tbody>\n",
       "</table>\n",
       "</div>"
      ],
      "text/plain": [
       "   Unnamed: 0    User  Id_listing  \\\n",
       "0           1  Dallas      218103   \n",
       "1           2  Dallas      218103   \n",
       "2           3  Dallas      218103   \n",
       "3           4  Dallas      218103   \n",
       "4           5  Dallas      218103   \n",
       "\n",
       "                                            comments  sentiment  \\\n",
       "0  Luis' bed and breakfast is just fantastic.  Hi...          9   \n",
       "1  Four of us had the pleasure of staying in two ...          9   \n",
       "2  What a fantastic host and a brilliant place!!!...          9   \n",
       "3  my friends and i ( 5ppl in total) had pleasant...          9   \n",
       "4  Luis was super great! Fantastic host who was h...          9   \n",
       "\n",
       "         room_type  price  number_of_reviews  calculated_host_listings_count  \\\n",
       "0  Entire home/apt    110                 39                               4   \n",
       "1  Entire home/apt    110                 39                               4   \n",
       "2  Entire home/apt    110                 39                               4   \n",
       "3  Entire home/apt    110                 39                               4   \n",
       "4  Entire home/apt    110                 39                               4   \n",
       "\n",
       "  price_group  review_scores_rating categorie_score  \\\n",
       "0        Luxe                    94           Moyen   \n",
       "1        Luxe                    94           Moyen   \n",
       "2        Luxe                    94           Moyen   \n",
       "3        Luxe                    94           Moyen   \n",
       "4        Luxe                    94           Moyen   \n",
       "\n",
       "                                        commentaires  \\\n",
       "0  Luis' bed and breakfast is just fantastic.  Hi...   \n",
       "1  Four of us had the pleasure of staying in two ...   \n",
       "2  What a fantastic host and a brilliant place!!!...   \n",
       "3  my friends and i ( 5ppl in total) had pleasant...   \n",
       "4  Luis was super great! Fantastic host who was h...   \n",
       "\n",
       "                                   description_lower  \\\n",
       "0  luis' bed and breakfast is just fantastic.  hi...   \n",
       "1  four of us had the pleasure of staying in two ...   \n",
       "2  what a fantastic host and a brilliant place!!!...   \n",
       "3  my friends and i ( ppl in total) had pleasant ...   \n",
       "4  luis was super great! fantastic host who was h...   \n",
       "\n",
       "                              description_lemmatized  \n",
       "0  luis bed and breakfast be just fantastic his c...  \n",
       "1  four of us have the pleasure of stay in two ro...  \n",
       "2  what a fantastic host and a brilliant place we...  \n",
       "3  my friend and i ppl in total have pleasant sta...  \n",
       "4  luis be super great fantastic host who be help...  "
      ]
     },
     "execution_count": 15,
     "metadata": {},
     "output_type": "execute_result"
    }
   ],
   "source": [
    "# Lemmatisation du jeu de données d'apprentissage\n",
    "description_token = train\n",
    "\n",
    "lemmatizer = WordNetLemmatizer()\n",
    "description = []\n",
    "\n",
    "for i in train:\n",
    "    lemmatized = []\n",
    "    for word, tag in nltk.pos_tag(i):\n",
    "        wntag = tag[0].lower()\n",
    "        wntag = wntag if wntag in ['a', 'r', 'n', 'v'] else None\n",
    "        if not wntag : \n",
    "            lemmatized.append(word)\n",
    "        else : \n",
    "            lemmatized.append(lemmatizer.lemmatize(word,wntag))\n",
    "    description.append(' '.join(lemmatized))\n",
    "\n",
    "total[\"description_lemmatized\"] = description\n",
    "\n",
    "# Visualisation de la lemmatisation\n",
    "total.head()"
   ]
  },
  {
   "cell_type": "code",
   "execution_count": 16,
   "metadata": {
    "scrolled": true
   },
   "outputs": [
    {
     "name": "stdout",
     "output_type": "stream",
     "text": [
      "929892    great value for a night in bordeaux so close t...\n",
      "979310    what a wonderful stay at brussaignes place in ...\n",
      "939227    laurent and wilson truly care about their rent...\n",
      "73859     great apartment and host you could not ask for...\n",
      "326073    love the place ac be great as it be so hot in ...\n",
      "147610    xavier apartment be in the best location and o...\n",
      "852939    stay in the city a few time but this be the pl...\n",
      "886557    it be a pleasant stay in gaetan et gregs apart...\n",
      "794637    the apartment be in a great location within wa...\n",
      "308878    we have a great stay the apartment be very wel...\n",
      "3610      this small apartment be in a great location in...\n",
      "414230    we have be to airbnbs and our bordeaux visit b...\n",
      "412514    stephane be so welcoming meeting us at his apa...\n",
      "941584    fred be very helpful with transport from the a...\n",
      "44435     bordeaux be such a charming city we love it fr...\n",
      "310087    xavier place be in a great location and perfec...\n",
      "935099          nice place good location good communication\n",
      "449659    great location in the center of the medieval t...\n",
      "636634    moniques apartment be beautiful squeaky clean ...\n",
      "458901    n bordeaux we have experience fantastic four d...\n",
      "512568    nice and welcome garden studio not that big bu...\n",
      "827888    nice appartement very close to the train stati...\n",
      "244132    amaze location and space beautifully renovate ...\n",
      "653734    great location on a side street just near the ...\n",
      "552503    stylish space and centrally locate aicha be a ...\n",
      "382168             lovely host and apartment great location\n",
      "165648    charm but somewhat worn french apartment excel...\n",
      "185823    i rent xavier flat for my parent they think xa...\n",
      "673604    this apartment be spacious and have great faci...\n",
      "619718    fantastic location in a lovely old french town...\n",
      "                                ...                        \n",
      "235796    the apartment be absolutely perfect for me gre...\n",
      "103355    great location near the historic centre of bor...\n",
      "791743    thanks for the nice stay we really enjoy it su...\n",
      "199041    the apartment be locate in a great area close ...\n",
      "776997    nicolass place could not well locate right in ...\n",
      "327069    absolutely fantastic stay in a great apartment...\n",
      "718315    arièles house be ideally locate in the center ...\n",
      "321879    fantastic location next to antique market sund...\n",
      "787201    flat be very clean and comfortable communicati...\n",
      "64820     xavier be a very welcoming and helpful host wh...\n",
      "329365    this apartment be in a great location in a gre...\n",
      "41090     i have live in bordeaux for a couple of year t...\n",
      "278167    i have a lovely stay in bordeaux at fred and c...\n",
      "191335    a lovely roof top apartment in the heart of bo...\n",
      "175203    we have a great time in juliens beautiful flat...\n",
      "912756    july appartment be the perfect choice for our ...\n",
      "899159    cosy house locate in a nice and quiet neighbor...\n",
      "87498     we couldnt be happier with our stay at fabienn...\n",
      "954698    i have a nice stay thanks to annelise who be a...\n",
      "521430    good location near to the city center the flat...\n",
      "137337           great central location and hospitable host\n",
      "54886     i didnt get to stay but xavier be so nice and ...\n",
      "732180    great spot in a terrific location centrally lo...\n",
      "110268    lovely flat conveniently locate in bordeaux th...\n",
      "644167    we stay at july place for a lady trip while we...\n",
      "259178    we only stay one night in between travel but w...\n",
      "365838    we really enjoy the space it be comfortable an...\n",
      "131932    we love stay at louis apartment in the heart o...\n",
      "671155    i have be in many different airbnb oliver atte...\n",
      "121958    outstanding hospitality this be how i rate thi...\n",
      "Name: description_lemmatized, Length: 794230, dtype: object\n"
     ]
    }
   ],
   "source": [
    "#decoupage train/test\n",
    "Xtrain,Xtest,Ytrain,Ytest = train_test_split(total[\"description_lemmatized\"],total.categorie_score.values,test_size = 0.2, random_state=42)\n",
    "print(Xtrain)"
   ]
  },
  {
   "cell_type": "code",
   "execution_count": 3,
   "metadata": {},
   "outputs": [
    {
     "ename": "NameError",
     "evalue": "name 'total' is not defined",
     "output_type": "error",
     "traceback": [
      "\u001b[0;31m---------------------------------------------------------------------------\u001b[0m",
      "\u001b[0;31mNameError\u001b[0m                                 Traceback (most recent call last)",
      "\u001b[0;32m<ipython-input-3-675a0c330fec>\u001b[0m in \u001b[0;36m<module>\u001b[0;34m\u001b[0m\n\u001b[0;32m----> 1\u001b[0;31m \u001b[0mtotal\u001b[0m\u001b[0;34m.\u001b[0m\u001b[0mhead\u001b[0m\u001b[0;34m(\u001b[0m\u001b[0;34m)\u001b[0m\u001b[0;34m\u001b[0m\u001b[0;34m\u001b[0m\u001b[0m\n\u001b[0m",
      "\u001b[0;31mNameError\u001b[0m: name 'total' is not defined"
     ]
    }
   ],
   "source": [
    "total.head()"
   ]
  },
  {
   "cell_type": "code",
   "execution_count": 17,
   "metadata": {},
   "outputs": [],
   "source": [
    "#transformer = TfidfVectorizer().fit(total[\"description_lemmatized\"].values)\n",
    "transformer = TfidfVectorizer(stop_words=\"english\").fit(total[\"description_lemmatized\"].values)"
   ]
  },
  {
   "cell_type": "code",
   "execution_count": 18,
   "metadata": {},
   "outputs": [],
   "source": [
    "# On convertit notre Xtrain et Xtest avec la transformation TF-IDF\n",
    "Xtrain_baseline = transformer.transform(Xtrain)\n",
    "Xtest_baseline = transformer.transform(Xtest)"
   ]
  },
  {
   "cell_type": "code",
   "execution_count": 19,
   "metadata": {},
   "outputs": [
    {
     "name": "stderr",
     "output_type": "stream",
     "text": [
      "/Users/mehdyhkn/anaconda3/lib/python3.7/site-packages/sklearn/linear_model/logistic.py:432: FutureWarning: Default solver will be changed to 'lbfgs' in 0.22. Specify a solver to silence this warning.\n",
      "  FutureWarning)\n",
      "/Users/mehdyhkn/anaconda3/lib/python3.7/site-packages/sklearn/linear_model/logistic.py:469: FutureWarning: Default multi_class will be changed to 'auto' in 0.22. Specify the multi_class option to silence this warning.\n",
      "  \"this warning.\", FutureWarning)\n"
     ]
    },
    {
     "data": {
      "text/plain": [
       "LogisticRegression(C=1.0, class_weight=None, dual=False, fit_intercept=True,\n",
       "                   intercept_scaling=1, l1_ratio=None, max_iter=100,\n",
       "                   multi_class='warn', n_jobs=None, penalty='l2',\n",
       "                   random_state=None, solver='warn', tol=0.0001, verbose=0,\n",
       "                   warm_start=False)"
      ]
     },
     "execution_count": 19,
     "metadata": {},
     "output_type": "execute_result"
    }
   ],
   "source": [
    "model = LogisticRegression() #n_jobs permet de choisir le nombre de coeur du processeur utilisés \n",
    "# On fit notre modèle régression logistique avec par défaut une pénalité ridge\n",
    "model.fit(Xtrain_baseline, Ytrain)\n",
    "\n"
   ]
  },
  {
   "cell_type": "code",
   "execution_count": 20,
   "metadata": {},
   "outputs": [],
   "source": [
    "# On effectue une prédiction\n",
    "predictions = model.predict(Xtest_baseline)\n",
    "# On recupère les probas\n",
    "proba = model.predict_proba(Xtest_baseline)"
   ]
  },
  {
   "cell_type": "code",
   "execution_count": 21,
   "metadata": {},
   "outputs": [
    {
     "data": {
      "text/plain": [
       "0.8179020739532026"
      ]
     },
     "execution_count": 21,
     "metadata": {},
     "output_type": "execute_result"
    }
   ],
   "source": [
    "sum(Ytest == predictions)/len(Ytest)"
   ]
  },
  {
   "cell_type": "code",
   "execution_count": 52,
   "metadata": {
    "scrolled": true
   },
   "outputs": [
    {
     "name": "stdout",
     "output_type": "stream",
     "text": [
      "              precision    recall  f1-score   support\n",
      "\n",
      "   Excellent       0.83      0.82      0.83     68108\n",
      "       Haute       0.84      0.73      0.78     56640\n",
      "       Moyen       0.79      0.88      0.84     73808\n",
      "    Médiocre       0.00      0.00      0.00         2\n",
      "\n",
      "    accuracy                           0.82    198558\n",
      "   macro avg       0.62      0.61      0.61    198558\n",
      "weighted avg       0.82      0.82      0.82    198558\n",
      "\n"
     ]
    }
   ],
   "source": [
    "print(classification_report(Ytest,predictions))"
   ]
  },
  {
   "cell_type": "code",
   "execution_count": 60,
   "metadata": {},
   "outputs": [
    {
     "data": {
      "text/plain": [
       "array(['Haute', 'Haute', 'Excellent', 'Excellent'], dtype=object)"
      ]
     },
     "execution_count": 60,
     "metadata": {},
     "output_type": "execute_result"
    }
   ],
   "source": [
    "Ytest[1:5]\n"
   ]
  },
  {
   "cell_type": "code",
   "execution_count": 55,
   "metadata": {},
   "outputs": [
    {
     "data": {
      "text/plain": [
       "array(['Haute', 'Haute', 'Excellent', 'Moyen'], dtype=object)"
      ]
     },
     "execution_count": 55,
     "metadata": {},
     "output_type": "execute_result"
    }
   ],
   "source": [
    "predictions[1:5]"
   ]
  },
  {
   "cell_type": "code",
   "execution_count": 56,
   "metadata": {},
   "outputs": [
    {
     "data": {
      "text/plain": [
       "array([[1, 0, 1],\n",
       "       [0, 2, 0],\n",
       "       [0, 0, 0]])"
      ]
     },
     "execution_count": 56,
     "metadata": {},
     "output_type": "execute_result"
    }
   ],
   "source": [
    "conf= confusion_matrix(Ytest[1:5], predictions[1:5])\n",
    "#cf = pd.DataFrame(conf, columns=['prédit Haute', 'prédit Moyen', 'prédit Médiocre'])\n",
    "#cf.index = ['vrai ham', 'vrai spam']\n",
    "conf"
   ]
  },
  {
   "cell_type": "code",
   "execution_count": 45,
   "metadata": {},
   "outputs": [
    {
     "data": {
      "text/plain": [
       "49009"
      ]
     },
     "execution_count": 45,
     "metadata": {},
     "output_type": "execute_result"
    }
   ],
   "source": [
    "sum(predictions == \"Haute\")\n"
   ]
  },
  {
   "cell_type": "code",
   "execution_count": 100,
   "metadata": {
    "scrolled": true
   },
   "outputs": [
    {
     "name": "stdout",
     "output_type": "stream",
     "text": [
      "929892    great value for a night in bordeaux so close t...\n",
      "979310    what a wonderful stay at brussaignes place in ...\n",
      "939227    laurent and wilson truly care about their rent...\n",
      "73859     great apartment and host you could not ask for...\n",
      "326073    love the place ac be great as it be so hot in ...\n",
      "147610    xavier apartment be in the best location and o...\n",
      "852939    stay in the city a few time but this be the pl...\n",
      "886557    it be a pleasant stay in gaetan et gregs apart...\n",
      "794637    the apartment be in a great location within wa...\n",
      "308878    we have a great stay the apartment be very wel...\n",
      "3610      this small apartment be in a great location in...\n",
      "414230    we have be to airbnbs and our bordeaux visit b...\n",
      "412514    stephane be so welcoming meeting us at his apa...\n",
      "941584    fred be very helpful with transport from the a...\n",
      "44435     bordeaux be such a charming city we love it fr...\n",
      "310087    xavier place be in a great location and perfec...\n",
      "935099          nice place good location good communication\n",
      "449659    great location in the center of the medieval t...\n",
      "636634    moniques apartment be beautiful squeaky clean ...\n",
      "458901    n bordeaux we have experience fantastic four d...\n",
      "512568    nice and welcome garden studio not that big bu...\n",
      "827888    nice appartement very close to the train stati...\n",
      "244132    amaze location and space beautifully renovate ...\n",
      "653734    great location on a side street just near the ...\n",
      "552503    stylish space and centrally locate aicha be a ...\n",
      "382168             lovely host and apartment great location\n",
      "165648    charm but somewhat worn french apartment excel...\n",
      "185823    i rent xavier flat for my parent they think xa...\n",
      "673604    this apartment be spacious and have great faci...\n",
      "619718    fantastic location in a lovely old french town...\n",
      "                                ...                        \n",
      "235796    the apartment be absolutely perfect for me gre...\n",
      "103355    great location near the historic centre of bor...\n",
      "791743    thanks for the nice stay we really enjoy it su...\n",
      "199041    the apartment be locate in a great area close ...\n",
      "776997    nicolass place could not well locate right in ...\n",
      "327069    absolutely fantastic stay in a great apartment...\n",
      "718315    arièles house be ideally locate in the center ...\n",
      "321879    fantastic location next to antique market sund...\n",
      "787201    flat be very clean and comfortable communicati...\n",
      "64820     xavier be a very welcoming and helpful host wh...\n",
      "329365    this apartment be in a great location in a gre...\n",
      "41090     i have live in bordeaux for a couple of year t...\n",
      "278167    i have a lovely stay in bordeaux at fred and c...\n",
      "191335    a lovely roof top apartment in the heart of bo...\n",
      "175203    we have a great time in juliens beautiful flat...\n",
      "912756    july appartment be the perfect choice for our ...\n",
      "899159    cosy house locate in a nice and quiet neighbor...\n",
      "87498     we couldnt be happier with our stay at fabienn...\n",
      "954698    i have a nice stay thanks to annelise who be a...\n",
      "521430    good location near to the city center the flat...\n",
      "137337           great central location and hospitable host\n",
      "54886     i didnt get to stay but xavier be so nice and ...\n",
      "732180    great spot in a terrific location centrally lo...\n",
      "110268    lovely flat conveniently locate in bordeaux th...\n",
      "644167    we stay at july place for a lady trip while we...\n",
      "259178    we only stay one night in between travel but w...\n",
      "365838    we really enjoy the space it be comfortable an...\n",
      "131932    we love stay at louis apartment in the heart o...\n",
      "671155    i have be in many different airbnb oliver atte...\n",
      "121958    outstanding hospitality this be how i rate thi...\n",
      "Name: description_lemmatized, Length: 794230, dtype: object\n"
     ]
    }
   ],
   "source": [
    "#decoupage train/test\n",
    "Xtrain_,Xtest_,Ytrain_,Ytest_ = train_test_split(total[\"description_lemmatized\"],total.review_scores_rating.values,test_size = 0.2, random_state=42)\n",
    "print(Xtrain_)"
   ]
  },
  {
   "cell_type": "code",
   "execution_count": 102,
   "metadata": {},
   "outputs": [],
   "source": [
    "from sklearn.linear_model import LinearRegression\n",
    "from sklearn.metrics import mean_squared_error"
   ]
  },
  {
   "cell_type": "code",
   "execution_count": 104,
   "metadata": {},
   "outputs": [],
   "source": [
    "transformer_ = TfidfVectorizer(stop_words=\"english\").fit(total[\"description_lemmatized\"].values)"
   ]
  },
  {
   "cell_type": "code",
   "execution_count": 107,
   "metadata": {},
   "outputs": [],
   "source": [
    "# On convertit notre Xtrain et Xtest avec la transformation TF-IDF\n",
    "Xtrain_1 = transformer_.transform(Xtrain_)\n",
    "Xtest_1 = transformer_.transform(Xtest_)"
   ]
  },
  {
   "cell_type": "code",
   "execution_count": 110,
   "metadata": {},
   "outputs": [
    {
     "data": {
      "text/plain": [
       "LinearRegression(copy_X=True, fit_intercept=True, n_jobs=None, normalize=False)"
      ]
     },
     "execution_count": 110,
     "metadata": {},
     "output_type": "execute_result"
    }
   ],
   "source": [
    "lmodellineaire = LinearRegression()\n",
    "lmodellineaire.fit(Xtrain_1, Ytrain_)"
   ]
  },
  {
   "cell_type": "code",
   "execution_count": 111,
   "metadata": {},
   "outputs": [
    {
     "name": "stdout",
     "output_type": "stream",
     "text": [
      "La performance du modèle sur la base dapprentissage\n",
      "--------------------------------------\n",
      "Lerreur quadratique moyenne est 1.9670657643739022\n",
      "le score R2 est 0.6358493633833624\n",
      "\n",
      "\n",
      "La performance du modèle sur la base de test\n",
      "--------------------------------------\n",
      "Lerreur quadratique moyenne est 1.9991469536015554\n",
      "le score R2 est 0.6229673256216983\n"
     ]
    }
   ],
   "source": [
    "# Evaluation du training set\n",
    "from sklearn.metrics import r2_score\n",
    "y_train_predict = lmodellineaire.predict(Xtrain_1)\n",
    "rmse = (np.sqrt(mean_squared_error(Ytrain_, y_train_predict)))\n",
    "r2 = r2_score(Ytrain_, y_train_predict)\n",
    " \n",
    "print('La performance du modèle sur la base dapprentissage')\n",
    "print('--------------------------------------')\n",
    "print('Lerreur quadratique moyenne est {}'.format(rmse))\n",
    "print('le score R2 est {}'.format(r2))\n",
    "print('\\n')\n",
    " \n",
    "# model evaluation for testing set\n",
    "y_test_predict = lmodellineaire.predict(Xtest_1)\n",
    "rmse = (np.sqrt(mean_squared_error(Ytest_, y_test_predict)))\n",
    "r2 = r2_score(Ytest_, y_test_predict)\n",
    " \n",
    "print('La performance du modèle sur la base de test')\n",
    "print('--------------------------------------')\n",
    "print('Lerreur quadratique moyenne est {}'.format(rmse))\n",
    "print('le score R2 est {}'.format(r2))"
   ]
  },
  {
   "cell_type": "code",
   "execution_count": null,
   "metadata": {},
   "outputs": [],
   "source": []
  },
  {
   "cell_type": "code",
   "execution_count": null,
   "metadata": {},
   "outputs": [],
   "source": []
  }
 ],
 "metadata": {
  "kernelspec": {
   "display_name": "Python 3",
   "language": "python",
   "name": "python3"
  },
  "language_info": {
   "codemirror_mode": {
    "name": "ipython",
    "version": 3
   },
   "file_extension": ".py",
   "mimetype": "text/x-python",
   "name": "python",
   "nbconvert_exporter": "python",
   "pygments_lexer": "ipython3",
   "version": "3.10.9 (tags/v3.10.9:1dd9be6, Dec  6 2022, 20:01:21) [MSC v.1934 64 bit (AMD64)]"
  },
  "vscode": {
   "interpreter": {
    "hash": "a0330bc223dcc27cec93af6a8456314f99a1dc089e419f6cd55b1ef0d9ce98d1"
   }
  }
 },
 "nbformat": 4,
 "nbformat_minor": 2
}
